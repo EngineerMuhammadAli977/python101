{
 "cells": [
  {
   "cell_type": "code",
   "execution_count": 1,
   "id": "f6b6b823-f119-476c-b71b-f265366a1f58",
   "metadata": {},
   "outputs": [
    {
     "name": "stdout",
     "output_type": "stream",
     "text": [
      "Muhammad\n",
      "Ali\n",
      "Khanewal\n",
      "Pakistan\n",
      "G96\n"
     ]
    }
   ],
   "source": [
    "print('Muhammad')\n",
    "print(\"Ali\")\n",
    "print('Khanewal')\n",
    "print('Pakistan')\n",
    "print('G96')\n"
   ]
  },
  {
   "cell_type": "code",
   "execution_count": 2,
   "id": "bfcdf944-2bcf-406a-b0c4-4de7b20302e0",
   "metadata": {},
   "outputs": [
    {
     "name": "stdout",
     "output_type": "stream",
     "text": [
      "\t\tJanuary\n",
      "\tFebruary\tMarch\n",
      "April\t\tMay\t\tJune\n",
      "July\t\tAugust\t\tSeptember\n",
      "\tOctober\t\tNovember\n",
      "\t\tDecember\n"
     ]
    }
   ],
   "source": [
    "print('\\t\\tJanuary\\n\\tFebruary\\tMarch\\nApril\\t\\tMay\\t\\tJune\\nJuly\\t\\tAugust\\t\\tSeptember\\n\\tOctober\\t\\tNovember\\n\\t\\tDecember')\n"
   ]
  },
  {
   "cell_type": "code",
   "execution_count": 3,
   "id": "75273ae3-3669-462b-8077-fadb650ff255",
   "metadata": {},
   "outputs": [
    {
     "name": "stdout",
     "output_type": "stream",
     "text": [
      "3.11.7 | packaged by Anaconda, Inc. | (main, Dec 15 2023, 18:05:47) [MSC v.1916 64 bit (AMD64)]\n"
     ]
    }
   ],
   "source": [
    "import sys\n",
    "\n",
    "print(sys.version)"
   ]
  },
  {
   "cell_type": "code",
   "execution_count": null,
   "id": "fbf89c9f-bdbc-4b3d-b394-60af9b4ff5f6",
   "metadata": {},
   "outputs": [],
   "source": []
  }
 ],
 "metadata": {
  "kernelspec": {
   "display_name": "Python 3 (ipykernel)",
   "language": "python",
   "name": "python3"
  },
  "language_info": {
   "codemirror_mode": {
    "name": "ipython",
    "version": 3
   },
   "file_extension": ".py",
   "mimetype": "text/x-python",
   "name": "python",
   "nbconvert_exporter": "python",
   "pygments_lexer": "ipython3",
   "version": "3.11.7"
  }
 },
 "nbformat": 4,
 "nbformat_minor": 5
}
