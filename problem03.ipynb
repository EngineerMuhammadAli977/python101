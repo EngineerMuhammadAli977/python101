{
 "cells": [
  {
   "cell_type": "markdown",
   "id": "e0cd3152-d466-4272-b6c5-c0942626d6b3",
   "metadata": {},
   "source": [
    "# Using multiplication of string with integer and concatenation operator, print the \r\n",
    "string: 'PPPA+FA+FA+FA+F*A+F'"
   ]
  },
  {
   "cell_type": "code",
   "execution_count": 1,
   "id": "e25e36b3-6931-44c4-b4e2-1a3a3cdba85c",
   "metadata": {},
   "outputs": [
    {
     "name": "stdout",
     "output_type": "stream",
     "text": [
      "PPPA+F+F+F*A+F\n"
     ]
    }
   ],
   "source": [
    "result = 'P'*3 + 'A' + '+F'*3 + '*A' + '+F'\n",
    "print(result)"
   ]
  },
  {
   "cell_type": "markdown",
   "id": "a7309185-d0d9-4521-a5cf-08bafd3416a4",
   "metadata": {},
   "source": [
    "## Take string input from user and then lower (small letter) the string and at last \r\n",
    "capitalize the first letter (replace function / capitalize function). After all, grab the last three \r\n",
    "characters. "
   ]
  },
  {
   "cell_type": "code",
   "execution_count": 2,
   "id": "3874c569-4121-43ab-8246-14222f0206bd",
   "metadata": {},
   "outputs": [
    {
     "name": "stdin",
     "output_type": "stream",
     "text": [
      "Enter a string:  Hello Ali \n"
     ]
    },
    {
     "name": "stdout",
     "output_type": "stream",
     "text": [
      "hello ali \n",
      "Hello ali \n",
      "Result: li \n"
     ]
    }
   ],
   "source": [
    "# Take input from the user\n",
    "user_input = input(\"Enter a string: \")\n",
    "# Lowercase the input string\n",
    "lowercased_input = user_input.lower()\n",
    "print(lowercased_input)\n",
    "# Capitalize the first letter\n",
    "capitalized_input = lowercased_input.capitalize()\n",
    "print(capitalized_input)\n",
    "# Grab the last three characters\n",
    "last_three_characters = capitalized_input[-3:]\n",
    "print(\"Result:\", last_three_characters)"
   ]
  },
  {
   "cell_type": "markdown",
   "id": "72b1ca25-def7-4bad-b1e1-392fca52a9ca",
   "metadata": {},
   "source": [
    "# Explore how the reversing the string works with this [::-1]"
   ]
  },
  {
   "cell_type": "code",
   "execution_count": 3,
   "id": "6dcaae51-502c-4871-a7f1-551545b32126",
   "metadata": {},
   "outputs": [
    {
     "name": "stdout",
     "output_type": "stream",
     "text": [
      "olleh\n"
     ]
    }
   ],
   "source": [
    "\"\"\"In Python, [::-1] is a slicing technique used to reverse a string. Let's break down how it works:\n",
    "The first colon : denotes the start of the slicing.\n",
    "The second colon : denotes the end of the slicing.\n",
    "The -1 denotes the step size. In this case, -1 means it will step through the string in reverse order.\n",
    "So, [::-1] effectively means \"start from the end, go to the beginning, and step backward by one character each time.\"\"\"\n",
    "original_string = \"hello\"\n",
    "reversed_string = original_string[::-1]\n",
    "print(reversed_string)"
   ]
  }
 ],
 "metadata": {
  "kernelspec": {
   "display_name": "Python 3 (ipykernel)",
   "language": "python",
   "name": "python3"
  },
  "language_info": {
   "codemirror_mode": {
    "name": "ipython",
    "version": 3
   },
   "file_extension": ".py",
   "mimetype": "text/x-python",
   "name": "python",
   "nbconvert_exporter": "python",
   "pygments_lexer": "ipython3",
   "version": "3.11.7"
  }
 },
 "nbformat": 4,
 "nbformat_minor": 5
}
